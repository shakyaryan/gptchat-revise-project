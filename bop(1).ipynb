{
 "cells": [
  {
   "cell_type": "markdown",
   "id": "5a6ad475-e31b-4131-b868-14b59ab877e8",
   "metadata": {},
   "source": [
    "#  Basics OF Python"
   ]
  },
  {
   "cell_type": "raw",
   "id": "943cdbd5-2e3f-4b70-934c-1aa10f3a5c94",
   "metadata": {},
   "source": [
    "Topic to be covered--\n",
    "-> intro to python\n",
    "->variables and data types\n",
    "->operators \n",
    "->predefined keyword\n",
    "-> comments"
   ]
  },
  {
   "cell_type": "code",
   "execution_count": null,
   "id": "132e085f-4da0-4efd-bfea-56f3ced3317a",
   "metadata": {},
   "outputs": [],
   "source": []
  }
 ],
 "metadata": {
  "kernelspec": {
   "display_name": "base",
   "language": "python",
   "name": "python3"
  },
  "language_info": {
   "codemirror_mode": {
    "name": "ipython",
    "version": 3
   },
   "file_extension": ".py",
   "mimetype": "text/x-python",
   "name": "python",
   "nbconvert_exporter": "python",
   "pygments_lexer": "ipython3",
   "version": "3.12.7"
  }
 },
 "nbformat": 4,
 "nbformat_minor": 5
}
