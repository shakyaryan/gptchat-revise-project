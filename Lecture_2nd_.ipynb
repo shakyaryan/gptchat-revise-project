{
 "cells": [
  {
   "cell_type": "markdown",
   "id": "5a6ad475-e31b-4131-b868-14b59ab877e8",
   "metadata": {},
   "source": [
    "#  Basics OF Python"
   ]
  },
  {
   "cell_type": "raw",
   "id": "943cdbd5-2e3f-4b70-934c-1aa10f3a5c94",
   "metadata": {},
   "source": [
    "Topic to be covered--\n",
    "-> intro to python\n",
    "->variables and data types\n",
    "->operators \n",
    "->predefined keyword\n",
    "-> comments"
   ]
  },
  {
   "cell_type": "raw",
   "id": "9a8e41f7-1a23-4f01-b363-7eb8f630b141",
   "metadata": {},
   "source": [
    "types of comments\n",
    "1. \"\"\"  \"\"\"\n",
    "2. '''  ''' \n",
    "3.  #"
   ]
  },
  {
   "cell_type": "code",
   "execution_count": 1,
   "id": "6ba41a8b-b6b0-427a-a6a3-84301357400f",
   "metadata": {},
   "outputs": [
    {
     "name": "stdout",
     "output_type": "stream",
     "text": [
      "jai ho\n"
     ]
    }
   ],
   "source": [
    "#  print() syntax\n",
    "\n",
    "print(\"jai ho\")"
   ]
  },
  {
   "cell_type": "code",
   "execution_count": 5,
   "id": "df975f0f-d5e8-4292-9104-7a547489d4be",
   "metadata": {},
   "outputs": [
    {
     "name": "stdout",
     "output_type": "stream",
     "text": [
      "<class 'str'>\n"
     ]
    }
   ],
   "source": [
    "# type()  syntax\n",
    "\n",
    "print(type(\"Skills\"))"
   ]
  },
  {
   "cell_type": "code",
   "execution_count": 7,
   "id": "2e3dd9e0-87b6-40bd-b3d0-0f55185c4ad1",
   "metadata": {},
   "outputs": [
    {
     "name": "stdout",
     "output_type": "stream",
     "text": [
      "<class 'int'>\n"
     ]
    }
   ],
   "source": [
    "print(type(25))"
   ]
  },
  {
   "cell_type": "code",
   "execution_count": 9,
   "id": "1422612c-bce0-44c2-ac89-d49bb07c2083",
   "metadata": {},
   "outputs": [
    {
     "name": "stdout",
     "output_type": "stream",
     "text": [
      "<class 'str'>\n"
     ]
    }
   ],
   "source": [
    "print(type(\"25\"))"
   ]
  },
  {
   "cell_type": "code",
   "execution_count": 11,
   "id": "386b50c2-a120-4b66-afcf-c9e7e1059a2e",
   "metadata": {},
   "outputs": [
    {
     "name": "stdout",
     "output_type": "stream",
     "text": [
      "<class 'float'>\n"
     ]
    }
   ],
   "source": [
    "print(type(3.4))"
   ]
  },
  {
   "cell_type": "code",
   "execution_count": 13,
   "id": "5524c502-7755-4a92-9e34-af53869b964d",
   "metadata": {},
   "outputs": [
    {
     "name": "stdout",
     "output_type": "stream",
     "text": [
      "<class 'bool'>\n"
     ]
    }
   ],
   "source": [
    "print(type(True))"
   ]
  },
  {
   "cell_type": "code",
   "execution_count": 15,
   "id": "b762bc13-b496-4ea4-88be-46026385b43a",
   "metadata": {},
   "outputs": [
    {
     "name": "stdout",
     "output_type": "stream",
     "text": [
      "<class 'bool'>\n"
     ]
    }
   ],
   "source": [
    "print(type(False))"
   ]
  },
  {
   "cell_type": "code",
   "execution_count": 17,
   "id": "e39ba496-5b17-4589-9251-0589305fa435",
   "metadata": {},
   "outputs": [
    {
     "name": "stdout",
     "output_type": "stream",
     "text": [
      "51\n"
     ]
    }
   ],
   "source": [
    "# prg to perform addition of two numbers\n",
    "a=25\n",
    "b=26\n",
    "c=a+b\n",
    "print(c)"
   ]
  },
  {
   "cell_type": "code",
   "execution_count": 19,
   "id": "97a1c423-fd62-40fa-8b2a-a132cdf99feb",
   "metadata": {},
   "outputs": [
    {
     "name": "stdout",
     "output_type": "stream",
     "text": [
      "c\n"
     ]
    }
   ],
   "source": [
    "print(\"c\")"
   ]
  },
  {
   "cell_type": "code",
   "execution_count": 21,
   "id": "0828cfcd-2d1a-4440-a035-e8af27069bd0",
   "metadata": {},
   "outputs": [],
   "source": [
    "# Datatypes:\n",
    "\n",
    "# 1. int - Integer eg: 25, 26, 27, 0, -1, -2, -3, 435\n",
    "# 2. float - Floating point number eg: 25.5, 26.5, 27.5, 0.0, -1.0, -2.0, -3.0, 435.0\n",
    "# 3. str - String eg: \"PW Skills\", \"Python\", \"Data Science\", \"Machine Learning\", \"42\", \"432.3412\"\n",
    "# 4. bool - Boolean eg: True, False"
   ]
  },
  {
   "cell_type": "code",
   "execution_count": 23,
   "id": "f077cb52-31a7-49f2-bf41-124f4eda9b8f",
   "metadata": {},
   "outputs": [
    {
     "name": "stdout",
     "output_type": "stream",
     "text": [
      "<class 'str'>\n"
     ]
    }
   ],
   "source": [
    " print(type(\"Darshan\"))"
   ]
  },
  {
   "cell_type": "code",
   "execution_count": 25,
   "id": "d40c9be7-6d76-485c-a0a4-bbe36cfc57fd",
   "metadata": {},
   "outputs": [
    {
     "name": "stdout",
     "output_type": "stream",
     "text": [
      "15.45\n"
     ]
    }
   ],
   "source": [
    "x=5\n",
    "y=10.45\n",
    "print(x+y)"
   ]
  },
  {
   "cell_type": "code",
   "execution_count": 7,
   "id": "04d53a52-431b-4e1e-9544-cfa6bcdf968f",
   "metadata": {},
   "outputs": [],
   "source": [
    "# Rules for writing variable names\n",
    "# 1. Variable names should start with an alphabet or an underscore\n",
    "# 2. Variable names should not start with a number\n",
    "# 3. Variable names should not contain any special characters except underscore\n",
    "# 4. Variable names are case-sensitive\n",
    "# 5. Variable names should not be a pre-defined keyword"
   ]
  },
  {
   "cell_type": "code",
   "execution_count": 9,
   "id": "5489ca1f-f6ee-4a7c-8a05-10a4a06e74ec",
   "metadata": {},
   "outputs": [
    {
     "name": "stdout",
     "output_type": "stream",
     "text": [
      "11\n",
      "7\n",
      "18\n",
      "4.5\n",
      "4\n",
      "1\n",
      "81\n"
     ]
    }
   ],
   "source": [
    "# Operators:\n",
    "\n",
    "# 1. Arithmetic Operators\n",
    "# + - Addition eg: 9+2\n",
    "# - - Subtraction eg: 9-2\n",
    "# * - Multiplication eg: 9*2\n",
    "# / - Division eg: 9/2\n",
    "# // - Floor Division eg: 9//2. this will return the quotient\n",
    "# % - Modulus eg: 9%2 this will return the remainder\n",
    "# ** - Exponent eg: 9**2 this will return the power\n",
    "\n",
    "print(9+2) # 11\n",
    "print(9-2) # 7\n",
    "print(9*2) # 18\n",
    "print(9/2) # 4.5\n",
    "print(9//2) # 4\n",
    "print(9%2) # 1\n",
    "print(9**2) # 81"
   ]
  },
  {
   "cell_type": "code",
   "execution_count": 11,
   "id": "1fbc69c8-2702-4134-b54c-8fb4d9bb5092",
   "metadata": {},
   "outputs": [
    {
     "name": "stdout",
     "output_type": "stream",
     "text": [
      "True\n",
      "False\n",
      "True\n",
      "True\n",
      "False\n"
     ]
    }
   ],
   "source": [
    "# 2. Comparison Operators\n",
    "\n",
    "# > - Greater than eg: 9>2\n",
    "# < - Less than eg: 9<2\n",
    "# >= - Greater than or equal to eg: 9>=2\n",
    "# <= - Less than or equal to eg: 9<=2\n",
    "# == - Equal to eg: 9==2\n",
    "# != - Not equal to eg: 9!=2\n",
    "\n",
    "no1 = 9\n",
    "no2 = 2\n",
    "print(no1>no2) # 9>2 -> True\n",
    "print(no1<no2) # 9<2 -> False\n",
    "print(no1>=no2) # 9>=2 -> True\n",
    "print(400<=400) # True\n",
    "print(9==2) # False"
   ]
  },
  {
   "cell_type": "code",
   "execution_count": 13,
   "id": "488363a0-73a8-4154-a9a1-47b1cd3d97a0",
   "metadata": {},
   "outputs": [
    {
     "name": "stdout",
     "output_type": "stream",
     "text": [
      "False\n",
      "False\n",
      "True\n",
      "False\n",
      "False\n"
     ]
    }
   ],
   "source": [
    "# Real time examples of Comparison Operators\n",
    "\n",
    "# Example 1\n",
    "# Data validation in Financial Applications\n",
    "yesterday_closing_price = 100\n",
    "today_opening_price = 101\n",
    "# Compare the yesterday's closing price with today's opening price\n",
    "print(yesterday_closing_price>today_opening_price) # False\n",
    "\n",
    "# Example 2\n",
    "# Inventory Management System\n",
    "current_stock = 100\n",
    "minimum_required_stock = 50\n",
    "# A store manager wants to check if the current stock is less than the minimum required stock\n",
    "print(current_stock<minimum_required_stock) # False\n",
    "\n",
    "# Example 3\n",
    "employee_salary = 50000\n",
    "average_salary = 60000\n",
    "# HR wants to check if the employee salary is less than the average salary\n",
    "print(employee_salary<average_salary) # True\n",
    "\n",
    "# Example 4\n",
    "# A student wants to check if he scored more than the passing marks\n",
    "student_marks = 35\n",
    "passing_marks = 40\n",
    "print(student_marks>passing_marks) # False\n",
    "\n",
    "# Example 5\n",
    "room_temperature = 25\n",
    "AC_temperature = 20\n",
    "# Check if the room temperature is less than the AC temperature\n",
    "print(room_temperature<AC_temperature) # False"
   ]
  },
  {
   "cell_type": "code",
   "execution_count": 25,
   "id": "352b2f66-ce95-4aa4-b77d-a41773284d77",
   "metadata": {},
   "outputs": [
    {
     "name": "stdout",
     "output_type": "stream",
     "text": [
      "False\n",
      "True\n",
      "True\n",
      "False\n",
      "True\n"
     ]
    }
   ],
   "source": [
    "# 3. Logical Operators\n",
    "# and - Logical AND eg: True and True -> True, True and False -> False, False and True -> False, False and False -> False\n",
    "# or - Logical OR eg: True or True -> True, True or False -> True, False or True -> True, False or False -> False\n",
    "# not - Logical NOT eg: not True -> False, not False ->\n",
    "# https://blogger.googleusercontent.com/img/b/R29vZ2xl/AVvXsEgS5-hYaqzi-oBlCgiaJOTtk4IsvNVrz8-tb4SeLY3AYyZs5Dbb-zOnjylK_Noynp0nN-CTMEahjpqvPuv5w0kMY4wSQDTcH5fXY77PGWMkux5IM73YQNVJzExJSZ7lqzyHv1-YhCT3xt71/s1600/LogicalOperators.png\n",
    "\n",
    "\n",
    "# Example 1\n",
    "# A student wants to check if he scored more than the passing marks and more than the average marks\n",
    "student_marks = 35\n",
    "passing_marks = 40\n",
    "average_marks = 60\n",
    "print(student_marks>passing_marks and student_marks>average_marks) # 35>40 and 35>60 -> False and False -> False\n",
    "\n",
    "# Example 2\n",
    "# Check if a person qualifies for a loan based on age and salary\n",
    "age = 25\n",
    "salary = 50000\n",
    "min_age = 18\n",
    "min_salary = 30000\n",
    "print(age>min_age and salary>min_salary) # 25>18 and 50000>30000 -> True and True -> True\n",
    "\n",
    "# Example 3\n",
    "# Exployees get overtime if they work more than 8 hours and it is a weekend\n",
    "hours_worked = 10\n",
    "is_weekend = True\n",
    "print(hours_worked>8 and is_weekend==True) # 10>8 and True==True -> True and True -> True\n",
    "\n",
    "print(not(True)) # False\n",
    "print(not(False)) # True"
   ]
  },
  {
   "cell_type": "code",
   "execution_count": 27,
   "id": "4ffa7962-dbf5-4645-a15b-6aba940c23bb",
   "metadata": {},
   "outputs": [
    {
     "name": "stdout",
     "output_type": "stream",
     "text": [
      "10\n",
      "20\n",
      "10\n",
      "20\n"
     ]
    }
   ],
   "source": [
    "# 4. Assignment Operators\n",
    "# = - Assignment Operator eg: a = 10\n",
    "# += - Increment Operator eg: a+=10 -> a = a+10\n",
    "# -= - Decrement Operator eg: a-=10 -> a = a-10\n",
    "# *= - Multiplication Operator eg: a*=10 -> a = a*10\n",
    "# /= - Division Operator eg: a/=10 -> a = a/10\n",
    "# //= - Floor Division Operator eg: a//=10 -> a = a//10\n",
    "# %= - Modulus Operator eg: a%=10 -> a = a%10\n",
    "# **= - Exponent Operator eg: a**=10 -> a = a**10\n",
    "\n",
    "a = 10\n",
    "print(a) # 10\n",
    "print(a+10) # 20\n",
    "print(a) # 10\n",
    "\n",
    "a = a+10 # a += 10\n",
    "print(a) # 20"
   ]
  },
  {
   "cell_type": "code",
   "execution_count": 29,
   "id": "f46658ff-aa55-4e7a-b4ae-af2bf3c791b0",
   "metadata": {},
   "outputs": [
    {
     "name": "stdout",
     "output_type": "stream",
     "text": [
      "True\n",
      "False\n",
      "True\n",
      "False\n",
      "True\n"
     ]
    }
   ],
   "source": [
    "# 5. Membership Operators\n",
    "# in - Membership Operator eg: \"Python\" in \"Python Programming\"\n",
    "# not in - Membership Operator eg: \"Java\" not in \"Python Programming\"\n",
    "\n",
    "print(\"Python\" in \"Python Programming\") # True\n",
    "print(\"Java\" in \"Python Programming\") # False\n",
    "print(\"D\" in \"Darshan\") # True\n",
    "print(\"d\" in \"Darshan\") # False\n",
    "\n",
    "# Real-time example of Membership Operators\n",
    "# Example 1\n",
    "valid_currencies = \"USD INR EUR GBP JPY\"\n",
    "currency = \"INR\"\n",
    "\n",
    "# Membership Check\n",
    "is_valid_currency = currency in valid_currencies\n",
    "print(is_valid_currency) # True"
   ]
  },
  {
   "cell_type": "raw",
   "id": "8afabdd1-a777-4cc1-adab-b21d29c53067",
   "metadata": {},
   "source": [
    "\n",
    "\n",
    "\n",
    "Home Work\n",
    "Task 1: String Operations for Business Applications\n",
    "Objective: Perform industry-relevant string operations.\n",
    "Tasks:\n",
    "Extract a customer's first name from a full name using slicing.\n",
    "Verify if a given keyword exists in a product description.\n",
    "Convert a user’s email address to lowercase for uniformity.\n",
    "Replace a sensitive word in a financial statement with \"****\".\n",
    "Find if a tracking ID contains the prefix \"TRK\".\n",
    "Assume Data:\n",
    "Full Name: \"Alice Johnson\"\n",
    "Product Description: \"This smartphone features a high-resolution display.\"\n",
    "Email: \"John.Doe@Company.com\"\n",
    "Sensitive Text: \"Your password is 123456\"\n",
    "Tracking ID: \"TRK987654\"\n",
    "Task 2: Arithmetic and Assignment Operators in Finance\n",
    "Objective: Perform arithmetic operations for real-world calculations.\n",
    "Tasks:\n",
    "Calculate total salary after adding a bonus to an employee’s base salary.\n",
    "Compute the total price of an order, given unit price and quantity.\n",
    "Increase a bank balance by adding interest.\n",
    "Find the remaining loan amount after a partial repayment.\n",
    "Compute the total bill by applying a discount to an initial amount.\n",
    "Assume Data:\n",
    "Base Salary: 50000, Bonus: 5000\n",
    "Unit Price: 250, Quantity: 4\n",
    "Bank Balance: 10000, Interest: 500\n",
    "Loan Amount: 75000, Repayment: 5000\n",
    "Initial Bill: 2000, Discount: 200\n",
    "Task 3: Comparison Operators in Business Applications\n",
    "Objective: Compare values to validate business conditions.\n",
    "Tasks:\n",
    "Compare today's stock price with yesterday’s to check if it increased.\n",
    "Verify if an employee's salary is greater than the company’s average.\n",
    "Check if a customer’s age qualifies for a senior citizen discount.\n",
    "Determine if a product’s weight is within acceptable limits.\n",
    "Check if a student's exam score meets the passing requirement.\n",
    "Assume Data:\n",
    "Yesterday’s Stock Price: 150.75, Today’s Stock Price: 155.20\n",
    "Employee Salary: 60000, Average Salary: 55000\n",
    "Customer Age: 65, Discount Eligibility Age: 60\n",
    "Product Weight: 505, Acceptable Range: 490-510\n",
    "Exam Score: 75, Passing Marks: 40\n",
    "Task 4: Logical Operators in Business Use Cases\n",
    "Objective: Combine multiple conditions using logical operators.\n",
    "Tasks:\n",
    "Verify if a loan applicant meets both age and salary requirements.\n",
    "Determine if a warehouse needs restocking based on low stock or high demand.\n",
    "Check if an employee qualifies for overtime pay (weekend and extra hours).\n",
    "Confirm if a transaction is fraudulent based on large amount or flagged account.\n",
    "Validate if a patient requires emergency attention based on vitals.\n",
    "Assume Data:\n",
    "Loan Applicant: Age 30, Salary 60000, Required Age 25, Required Salary 50000\n",
    "Stock: 15, Minimum 20, High Demand: True\n",
    "Hours Worked: 10, Is Weekend: True\n",
    "Transaction Amount: 5000, Average Spend: 1200\n",
    "Patient Vitals: Heart Rate: 110, Oxygen Level: 89, Normal HR: <100, Normal O2: >90\n",
    "Task 5: Membership Operators in Business Applications\n",
    "Objective: Check for membership in predefined datasets.\n",
    "Tasks:\n",
    "Check if a currency code is valid for a banking system.\n",
    "Validate if a user role exists in a system’s predefined access roles.\n",
    "Verify if a flight’s airport code is recognized in an airline system.\n",
    "Determine if a social media post contains a trending hashtag.\n",
    "Confirm if a shipment tracking ID is active.\n",
    "Assume Data:\n",
    "Currency Codes: \"USD INR EUR GBP JPY\"\n",
    "Access Roles: \"Admin Manager Editor Viewer\"\n",
    "Airport Codes: \"LAX JFK DXB HND\"\n",
    "Trending Hashtags: \"#Tech #AI #DataScience\"\n",
    "Active Shipments: \"TRK123 TRK456 TRK789\"\n",
    "Happy Learning\n",
    "\n",
    "\n",
    "\n",
    "\n"
   ]
  }
 ],
 "metadata": {
  "kernelspec": {
   "display_name": "Python [conda env:base] *",
   "language": "python",
   "name": "conda-base-py"
  },
  "language_info": {
   "codemirror_mode": {
    "name": "ipython",
    "version": 3
   },
   "file_extension": ".py",
   "mimetype": "text/x-python",
   "name": "python",
   "nbconvert_exporter": "python",
   "pygments_lexer": "ipython3",
   "version": "3.12.7"
  }
 },
 "nbformat": 4,
 "nbformat_minor": 5
}
